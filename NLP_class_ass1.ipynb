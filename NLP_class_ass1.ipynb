{
  "nbformat": 4,
  "nbformat_minor": 0,
  "metadata": {
    "colab": {
      "name": "NLP_class_ass1.ipynb",
      "provenance": [],
      "collapsed_sections": []
    },
    "kernelspec": {
      "name": "python3",
      "display_name": "Python 3"
    }
  },
  "cells": [
    {
      "cell_type": "code",
      "metadata": {
        "id": "7cKXhIX8zE6Y",
        "colab_type": "code",
        "colab": {
          "base_uri": "https://localhost:8080/",
          "height": 168
        },
        "outputId": "74d5d50d-be4d-4db3-9d88-c7844fabcf3a"
      },
      "source": [
        "import nltk\n",
        "nltk.download('punkt')\n",
        "nltk.download('porter_test')\n",
        "nltk.download('stopwords')\n",
        "nltk.download('wordnet')"
      ],
      "execution_count": 29,
      "outputs": [
        {
          "output_type": "stream",
          "text": [
            "[nltk_data] Downloading package punkt to /root/nltk_data...\n",
            "[nltk_data]   Package punkt is already up-to-date!\n",
            "[nltk_data] Downloading package porter_test to /root/nltk_data...\n",
            "[nltk_data]   Package porter_test is already up-to-date!\n",
            "[nltk_data] Downloading package stopwords to /root/nltk_data...\n",
            "[nltk_data]   Package stopwords is already up-to-date!\n",
            "[nltk_data] Downloading package wordnet to /root/nltk_data...\n",
            "[nltk_data]   Unzipping corpora/wordnet.zip.\n"
          ],
          "name": "stdout"
        },
        {
          "output_type": "execute_result",
          "data": {
            "text/plain": [
              "True"
            ]
          },
          "metadata": {
            "tags": []
          },
          "execution_count": 29
        }
      ]
    },
    {
      "cell_type": "code",
      "metadata": {
        "id": "NJ4HqR4pzPVR",
        "colab_type": "code",
        "colab": {
          "base_uri": "https://localhost:8080/",
          "height": 54
        },
        "outputId": "87e210f5-11c6-48b2-e892-2c8633e4ac19"
      },
      "source": [
        "from nltk import sent_tokenize , word_tokenize\n",
        "\n",
        "para = \"\"\"If it hurt Barcelona fans to imagine a time when Messi stopped playing, it is worse to contemplate a time when he only stopped playing for them. \n",
        "        This isn’t really that Messi is going; it’s when he’s going, why he’s going, and how he’s going. \n",
        "        Where he is going, too: Manchester City, Paris Saint-Germain, Juventus, it doesn’t matter much. \n",
        "        What matters is that it’s to another club. At least when he said the end was near, they imagined getting there together – his final game, like his first, would be in a Barcelona shirt, a fond if tearful farewell, a collective celebration which will never happen now.\"\"\"\n",
        "\n",
        "sentences = sent_tokenize(para)\n",
        "print(sentences)"
      ],
      "execution_count": 22,
      "outputs": [
        {
          "output_type": "stream",
          "text": [
            "['If it hurt Barcelona fans to imagine a time when Messi stopped playing, it is worse to contemplate a time when he only stopped playing for them.', 'This isn’t really that Messi is going; it’s when he’s going, why he’s going, and how he’s going.', 'Where he is going, too: Manchester City, Paris Saint-Germain, Juventus, it doesn’t matter much.', 'What matters is that it’s to another club.', 'At least when he said the end was near, they imagined getting there together – his final game, like his first, would be in a Barcelona shirt, a fond if tearful farewell, a collective celebration which will never happen now.']\n"
          ],
          "name": "stdout"
        }
      ]
    },
    {
      "cell_type": "code",
      "metadata": {
        "id": "lvkSxXjh0sVe",
        "colab_type": "code",
        "colab": {
          "base_uri": "https://localhost:8080/",
          "height": 101
        },
        "outputId": "0676b2e8-e7c7-4a06-b28d-8ef83ca76eac"
      },
      "source": [
        "from nltk.corpus import stopwords\n",
        "\n",
        "words_array = []\n",
        "for sentence in sentences:\n",
        "    words_array.append(word_tokenize(sentence))\n",
        "\n",
        "stop_words = set(stopwords.words('english'))\n",
        "filtered_sentences = []\n",
        "\n",
        "for words in words_array:\n",
        "    filtered_sentence = ''\n",
        "    for w in words:\n",
        "        if w not in stop_words:\n",
        "            filtered_sentence += w + ' '\n",
        "    filtered_sentences.append(filtered_sentence)\n",
        "\n",
        "filtered_sentences"
      ],
      "execution_count": 9,
      "outputs": [
        {
          "output_type": "execute_result",
          "data": {
            "text/plain": [
              "['If hurt Barcelona fans imagine time Messi stopped playing , worse contemplate time stopped playing . ',\n",
              " 'This ’ really Messi going ; ’ ’ going , ’ going , ’ going . ',\n",
              " 'Where going , : Manchester City , Paris Saint-Germain , Juventus , ’ matter much . ',\n",
              " 'What matters ’ another club . ',\n",
              " 'At least said end near , imagined getting together – final game , like first , would Barcelona shirt , fond tearful farewell , collective celebration never happen . ']"
            ]
          },
          "metadata": {
            "tags": []
          },
          "execution_count": 9
        }
      ]
    },
    {
      "cell_type": "code",
      "metadata": {
        "id": "lE6qfPoI5nVh",
        "colab_type": "code",
        "colab": {
          "base_uri": "https://localhost:8080/",
          "height": 138
        },
        "outputId": "4dfd68bc-c586-4b27-cfcd-df369dddded6"
      },
      "source": [
        "from nltk.tokenize import WhitespaceTokenizer,WordPunctTokenizer,TreebankWordTokenizer\n",
        "\n",
        "tk1 = WhitespaceTokenizer()\n",
        "wst_sent = tk1.tokenize(sentences[1])\n",
        "print('WhiteSpace :', wst_sent)\n",
        "print(len(wst_sent))\n",
        "\n",
        "tk2 = WordPunctTokenizer()\n",
        "wp_sent = tk2.tokenize(sentences[1])\n",
        "print('WordPunt :', wp_sent)\n",
        "print(len(wp_sent))\n",
        "\n",
        "tk3 = TreebankWordTokenizer()\n",
        "tb_sent = tk3.tokenize(sentences[1])\n",
        "print('TreeBank :',tb_sent)\n",
        "print(len(tb_sent))"
      ],
      "execution_count": 33,
      "outputs": [
        {
          "output_type": "stream",
          "text": [
            "WhiteSpace : ['This', 'isn’t', 'really', 'that', 'Messi', 'is', 'going;', 'it’s', 'when', 'he’s', 'going,', 'why', 'he’s', 'going,', 'and', 'how', 'he’s', 'going.']\n",
            "18\n",
            "WordPunt : ['This', 'isn', '’', 't', 'really', 'that', 'Messi', 'is', 'going', ';', 'it', '’', 's', 'when', 'he', '’', 's', 'going', ',', 'why', 'he', '’', 's', 'going', ',', 'and', 'how', 'he', '’', 's', 'going', '.']\n",
            "32\n",
            "TreeBank : ['This', 'isn', '’', 't', 'really', 'that', 'Messi', 'is', 'going', ';', 'it', '’', 's', 'when', 'he', '’', 's', 'going', ',', 'why', 'he', '’', 's', 'going', ',', 'and', 'how', 'he', '’', 's', 'going', '.']\n",
            "32\n"
          ],
          "name": "stdout"
        }
      ]
    },
    {
      "cell_type": "code",
      "metadata": {
        "id": "KOJSFHh9mZ5F",
        "colab_type": "code",
        "colab": {
          "base_uri": "https://localhost:8080/",
          "height": 50
        },
        "outputId": "99616b24-1afc-4d62-93b7-96df2abeb092"
      },
      "source": [
        "stop_words = set(stopwords.words('english'))\n",
        "\n",
        "filtered_sentence = [ word for word in tb_sent if word not in stop_words]\n",
        "print(filtered_sentence,'\\n',len(filtered_sentence))"
      ],
      "execution_count": 34,
      "outputs": [
        {
          "output_type": "stream",
          "text": [
            "['This', '’', 'really', 'Messi', 'going', ';', '’', '’', 'going', ',', '’', 'going', ',', '’', 'going', '.'] \n",
            " 16\n"
          ],
          "name": "stdout"
        }
      ]
    },
    {
      "cell_type": "code",
      "metadata": {
        "id": "t9tkLVX4qefC",
        "colab_type": "code",
        "colab": {
          "base_uri": "https://localhost:8080/",
          "height": 50
        },
        "outputId": "40e6e5bb-8e7c-4b21-d385-f8688d6a11a7"
      },
      "source": [
        "from nltk.stem import PorterStemmer\n",
        "from nltk.stem import WordNetLemmatizer\n",
        "\n",
        "ps = PorterStemmer()\n",
        "wnl = WordNetLemmatizer()\n",
        "\n",
        "stemmed = []\n",
        "lemmatized = []\n",
        "\n",
        "for word in filtered_sentence:\n",
        "    stemmed.append(ps.stem(word))\n",
        "    lemmatized.append(wnl.lemmatize(word))\n",
        "\n",
        "print(stemmed,'\\n',lemmatized)"
      ],
      "execution_count": 40,
      "outputs": [
        {
          "output_type": "stream",
          "text": [
            "['thi', '’', 'realli', 'messi', 'go', ';', '’', '’', 'go', ',', '’', 'go', ',', '’', 'go', '.'] \n",
            " ['This', '’', 'really', 'Messi', 'going', ';', '’', '’', 'going', ',', '’', 'going', ',', '’', 'going', '.']\n"
          ],
          "name": "stdout"
        }
      ]
    },
    {
      "cell_type": "code",
      "metadata": {
        "id": "dL07_eVOr2r6",
        "colab_type": "code",
        "colab": {}
      },
      "source": [
        ""
      ],
      "execution_count": null,
      "outputs": []
    }
  ]
}